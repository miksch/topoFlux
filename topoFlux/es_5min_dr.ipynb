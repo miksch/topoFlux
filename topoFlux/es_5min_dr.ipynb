{
 "cells": [
  {
   "cell_type": "code",
   "execution_count": 10,
   "metadata": {},
   "outputs": [],
   "source": [
    "import pandas as pd\r\n",
    "import numpy as np\r\n",
    "from utils import coord_rotate\r\n",
    "import os\r\n",
    "import importlib\r\n",
    "import glob\r\n",
    "import matplotlib.pyplot as plt"
   ]
  },
  {
   "cell_type": "code",
   "execution_count": 2,
   "metadata": {},
   "outputs": [],
   "source": [
    "in_dir = \"C:/Users/moo90/Box/data/materhorn/ES/ES3/raw_20hz/parq\"\r\n",
    "\r\n",
    "files = glob.glob(os.path.join(in_dir, '*.parquet'))\r\n"
   ]
  },
  {
   "cell_type": "code",
   "execution_count": 3,
   "metadata": {},
   "outputs": [],
   "source": [
    "def dr_apply(df):\r\n",
    "\r\n",
    "    wind_vect0 = df.values\r\n",
    "    wind_vect1 = coord_rotate.yaw_correct(wind_vect0)\r\n",
    "    wind_vect2 = coord_rotate.pitch_correct(wind_vect1)\r\n",
    "    \r\n",
    "    return np.nanmean(wind_vect2[:,0])"
   ]
  },
  {
   "cell_type": "code",
   "execution_count": 4,
   "metadata": {},
   "outputs": [
    {
     "name": "stderr",
     "output_type": "stream",
     "text": [
      "c:\\Users\\moo90\\Box\\git\\topoFlux\\topoFlux\\utils\\coord_rotate.py:85: RuntimeWarning: Mean of empty slice\n",
      "  u_mean = np.nanmean(wind_vect[:,0])\n",
      "c:\\Users\\moo90\\Box\\git\\topoFlux\\topoFlux\\utils\\coord_rotate.py:86: RuntimeWarning: Mean of empty slice\n",
      "  v_mean = np.nanmean(wind_vect[:,1])\n",
      "c:\\Users\\moo90\\Box\\git\\topoFlux\\topoFlux\\utils\\coord_rotate.py:65: RuntimeWarning: Mean of empty slice\n",
      "  u_mean = np.nanmean(wind_vect[:,0])\n",
      "c:\\Users\\moo90\\Box\\git\\topoFlux\\topoFlux\\utils\\coord_rotate.py:66: RuntimeWarning: Mean of empty slice\n",
      "  w_mean = np.nanmean(wind_vect[:,2])\n",
      "<ipython-input-3-565e4a183886>:7: RuntimeWarning: Mean of empty slice\n",
      "  return np.nanmean(wind_vect2[:,0])\n"
     ]
    }
   ],
   "source": [
    "dr_df = pd.DataFrame(columns=[f'u_dr_{h}' for h in ['0.5', '2', '5', '10', '20']])\r\n",
    "\r\n",
    "# Ignore first date (9/21) b/c of outliers\r\n",
    "for i, f in enumerate(files[1:]):\r\n",
    "\r\n",
    "    temp_df = pd.read_parquet(f)\r\n",
    "    u_dr_list = []\r\n",
    "\r\n",
    "    # Loop through heights\r\n",
    "    for h in ['0.5', '2', '5', '10', '20']:\r\n",
    "\r\n",
    "        # Subset and apply dr\r\n",
    "        temp_group = temp_df.loc[:,[f'{v}_{h}' for v in ['ux', 'uy', 'uz']]].groupby(pd.Grouper(freq='5T', closed='right', label='right'), group_keys=False)\r\n",
    "        #dr_df.loc[temp_df.index, f'u_dr_{h}'] = temp_group.apply(dr_apply)\r\n",
    "\r\n",
    "        u_dr_list.append(temp_group.apply(dr_apply).to_frame(f'u_dr_{h}'))\r\n",
    "\r\n",
    "    temp_dr = pd.concat(u_dr_list, axis=1)\r\n",
    "    dr_df = pd.concat([dr_df, temp_dr])\r\n"
   ]
  },
  {
   "cell_type": "code",
   "execution_count": 5,
   "metadata": {},
   "outputs": [],
   "source": [
    "dr_df.to_csv(\"C:/Users/moo90/Box/data/materhorn/ES/ES3/u_dr.csv\")"
   ]
  },
  {
   "cell_type": "code",
   "execution_count": 7,
   "metadata": {},
   "outputs": [],
   "source": [
    "test_winds = pd.read_csv(\"C:/Users/moo90/Box/data/materhorn/ES_5min/data_tables/ES3/spdanddir.txt\", index_col=[0], parse_dates=True)"
   ]
  },
  {
   "cell_type": "code",
   "execution_count": 9,
   "metadata": {},
   "outputs": [],
   "source": [
    "test_all = pd.concat([dr_df, test_winds], axis=1)"
   ]
  },
  {
   "cell_type": "code",
   "execution_count": 20,
   "metadata": {},
   "outputs": [
    {
     "data": {
      "image/png": "[encoded data removed]",
      "text/plain": "<Figure size 360x360 with 1 Axes>"
     },
     "metadata": {
      "needs_background": "light"
     },
     "output_type": "display_data"
    }
   ],
   "source": [
    "fig, ax = plt.subplots(**{'figsize':(5,5)})\r\n",
    "ax.axis('square')\r\n",
    "ax.scatter(test_all['0_5m_speed'], test_all['u_dr_0.5'], s=3, alpha=.5)\r\n",
    "ax.set(xlim=(0,12), ylim=(0,12), xlabel='Wind Speed [m/s]', ylabel='Double Rotated U [m/s]')\r\n",
    "ax.grid(ls='--')\r\n"
   ]
  }
 ],
 "metadata": {
  "kernelspec": {
   "display_name": "Python 3.8.8 64-bit ('base': conda)",
   "name": "python388jvsc74a57bd07be8e1c33fe0cf578c5fc47dbc2dc7281533f14aa3861876d8419516a6bb5098"
  },
  "language_info": {
   "codemirror_mode": {
    "name": "ipython",
    "version": 3
   },
   "file_extension": ".py",
   "mimetype": "text/x-python",
   "name": "python",
   "nbconvert_exporter": "python",
   "pygments_lexer": "ipython3",
   "version": "3.8.8"
  },
  "orig_nbformat": 2
 },
 "nbformat": 4,
 "nbformat_minor": 2
}